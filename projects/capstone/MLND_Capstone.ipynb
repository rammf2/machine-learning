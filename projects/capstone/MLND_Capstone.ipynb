{
 "cells": [
  {
   "cell_type": "code",
   "execution_count": 1,
   "metadata": {},
   "outputs": [
    {
     "name": "stderr",
     "output_type": "stream",
     "text": [
      "Using TensorFlow backend.\n"
     ]
    }
   ],
   "source": [
    "import numpy as np\n",
    "import pandas as pd\n",
    "import matplotlib.pyplot as plt\n",
    "import nltk\n",
    "#nltk.download('stopwords')\n",
    "#from keras_tqdm import TQDMNotebookCallback\n",
    "\n",
    "from nltk.corpus import stopwords\n",
    "from nltk.stem.porter import PorterStemmer\n",
    "import codecs\n",
    "from tqdm import tqdm\n",
    "\n",
    "from nltk.tokenize import RegexpTokenizer\n",
    "from keras.preprocessing.text import Tokenizer\n",
    "from keras.preprocessing import sequence\n",
    "\n",
    "import keras\n",
    "from keras.models import Sequential, Model\n",
    "from keras.layers import Dense, Conv1D, Conv2D, MaxPooling1D, GlobalMaxPool1D, Bidirectional, GlobalMaxPooling1D\n",
    "from keras.layers import LSTM, GRU, Dropout , BatchNormalization, Embedding, Flatten, GlobalAveragePooling1D, concatenate, Input"
   ]
  },
  {
   "cell_type": "code",
   "execution_count": 2,
   "metadata": {
    "collapsed": true
   },
   "outputs": [],
   "source": [
    "#Reading the training data\n",
    "train = pd.read_csv('Desktop/online_studies/Udacity/ML/capstone/train.csv')\n",
    "train[train.isnull().any(axis=1)]\n",
    "train.dropna(inplace=True)\n",
    "#Labeling the training data\n",
    "list_classes = [\"toxic\", \"severe_toxic\", \"obscene\", \"threat\", \"insult\", \"identity_hate\"]\n",
    "y_train = train[list_classes]"
   ]
  },
  {
   "cell_type": "code",
   "execution_count": 3,
   "metadata": {},
   "outputs": [
    {
     "name": "stdout",
     "output_type": "stream",
     "text": [
      "<class 'pandas.core.frame.DataFrame'>\n",
      "Int64Index: 159571 entries, 0 to 159570\n",
      "Data columns (total 8 columns):\n",
      "id               159571 non-null object\n",
      "comment_text     159571 non-null object\n",
      "toxic            159571 non-null int64\n",
      "severe_toxic     159571 non-null int64\n",
      "obscene          159571 non-null int64\n",
      "threat           159571 non-null int64\n",
      "insult           159571 non-null int64\n",
      "identity_hate    159571 non-null int64\n",
      "dtypes: int64(6), object(2)\n",
      "memory usage: 11.0+ MB\n"
     ]
    }
   ],
   "source": [
    "train.info()"
   ]
  },
  {
   "cell_type": "code",
   "execution_count": 5,
   "metadata": {},
   "outputs": [
    {
     "data": {
      "text/html": [
       "<div>\n",
       "<style scoped>\n",
       "    .dataframe tbody tr th:only-of-type {\n",
       "        vertical-align: middle;\n",
       "    }\n",
       "\n",
       "    .dataframe tbody tr th {\n",
       "        vertical-align: top;\n",
       "    }\n",
       "\n",
       "    .dataframe thead th {\n",
       "        text-align: right;\n",
       "    }\n",
       "</style>\n",
       "<table border=\"1\" class=\"dataframe\">\n",
       "  <thead>\n",
       "    <tr style=\"text-align: right;\">\n",
       "      <th></th>\n",
       "      <th>id</th>\n",
       "      <th>comment_text</th>\n",
       "      <th>toxic</th>\n",
       "      <th>severe_toxic</th>\n",
       "      <th>obscene</th>\n",
       "      <th>threat</th>\n",
       "      <th>insult</th>\n",
       "      <th>identity_hate</th>\n",
       "    </tr>\n",
       "  </thead>\n",
       "  <tbody>\n",
       "    <tr>\n",
       "      <th>0</th>\n",
       "      <td>0000997932d777bf</td>\n",
       "      <td>Explanation\\nWhy the edits made under my usern...</td>\n",
       "      <td>0</td>\n",
       "      <td>0</td>\n",
       "      <td>0</td>\n",
       "      <td>0</td>\n",
       "      <td>0</td>\n",
       "      <td>0</td>\n",
       "    </tr>\n",
       "    <tr>\n",
       "      <th>1</th>\n",
       "      <td>000103f0d9cfb60f</td>\n",
       "      <td>D'aww! He matches this background colour I'm s...</td>\n",
       "      <td>0</td>\n",
       "      <td>0</td>\n",
       "      <td>0</td>\n",
       "      <td>0</td>\n",
       "      <td>0</td>\n",
       "      <td>0</td>\n",
       "    </tr>\n",
       "    <tr>\n",
       "      <th>2</th>\n",
       "      <td>000113f07ec002fd</td>\n",
       "      <td>Hey man, I'm really not trying to edit war. It...</td>\n",
       "      <td>0</td>\n",
       "      <td>0</td>\n",
       "      <td>0</td>\n",
       "      <td>0</td>\n",
       "      <td>0</td>\n",
       "      <td>0</td>\n",
       "    </tr>\n",
       "    <tr>\n",
       "      <th>3</th>\n",
       "      <td>0001b41b1c6bb37e</td>\n",
       "      <td>\"\\nMore\\nI can't make any real suggestions on ...</td>\n",
       "      <td>0</td>\n",
       "      <td>0</td>\n",
       "      <td>0</td>\n",
       "      <td>0</td>\n",
       "      <td>0</td>\n",
       "      <td>0</td>\n",
       "    </tr>\n",
       "    <tr>\n",
       "      <th>4</th>\n",
       "      <td>0001d958c54c6e35</td>\n",
       "      <td>You, sir, are my hero. Any chance you remember...</td>\n",
       "      <td>0</td>\n",
       "      <td>0</td>\n",
       "      <td>0</td>\n",
       "      <td>0</td>\n",
       "      <td>0</td>\n",
       "      <td>0</td>\n",
       "    </tr>\n",
       "  </tbody>\n",
       "</table>\n",
       "</div>"
      ],
      "text/plain": [
       "                 id                                       comment_text  toxic  \\\n",
       "0  0000997932d777bf  Explanation\\nWhy the edits made under my usern...      0   \n",
       "1  000103f0d9cfb60f  D'aww! He matches this background colour I'm s...      0   \n",
       "2  000113f07ec002fd  Hey man, I'm really not trying to edit war. It...      0   \n",
       "3  0001b41b1c6bb37e  \"\\nMore\\nI can't make any real suggestions on ...      0   \n",
       "4  0001d958c54c6e35  You, sir, are my hero. Any chance you remember...      0   \n",
       "\n",
       "   severe_toxic  obscene  threat  insult  identity_hate  \n",
       "0             0        0       0       0              0  \n",
       "1             0        0       0       0              0  \n",
       "2             0        0       0       0              0  \n",
       "3             0        0       0       0              0  \n",
       "4             0        0       0       0              0  "
      ]
     },
     "execution_count": 5,
     "metadata": {},
     "output_type": "execute_result"
    }
   ],
   "source": [
    "train.head()"
   ]
  },
  {
   "cell_type": "code",
   "execution_count": 6,
   "metadata": {
    "collapsed": true
   },
   "outputs": [],
   "source": [
    "# Read test data\n",
    "test = pd.read_csv('Desktop/online_studies/Udacity/ML/capstone/test.csv')\n",
    "test[test.isnull().any(axis=1)]\n",
    "test.dropna(inplace=True)"
   ]
  },
  {
   "cell_type": "code",
   "execution_count": 7,
   "metadata": {},
   "outputs": [
    {
     "data": {
      "image/png": "[encoded data removed]",
      "text/plain": [
       "<matplotlib.figure.Figure at 0x2423cecfe48>"
      ]
     },
     "metadata": {},
     "output_type": "display_data"
    }
   ],
   "source": [
    "plt.rcdefaults()\n",
    "fig, ax = plt.subplots()\n",
    "\n",
    "# Example data\n",
    "toxic_class = ('toxic', 'severe_toxic', 'obscene', 'threat', 'insult','identity_hate')\n",
    "y_pos = np.arange(len(toxic_class))\n",
    "value = (train.toxic.sum(),train.severe_toxic.sum(),train.obscene.sum(),train.threat.sum(),train.insult.sum(),train.identity_hate.sum())\n",
    "error = np.random.rand(len(toxic_class))\n",
    "ax.barh(y_pos, value, xerr=error, align='center',\n",
    "        color='green', ecolor='black')\n",
    "ax.set_yticks(y_pos)\n",
    "ax.set_yticklabels(toxic_class)\n",
    "ax.invert_yaxis()  # labels read top-to-bottom\n",
    "ax.set_xlabel('Total number of comments')\n",
    "ax.set_title('Data distribution')\n",
    "\n",
    "plt.show()"
   ]
  },
  {
   "cell_type": "code",
   "execution_count": 8,
   "metadata": {},
   "outputs": [
    {
     "data": {
      "text/plain": [
       "0         Explanation\\nWhy the edits made under my usern...\n",
       "1         D'aww! He matches this background colour I'm s...\n",
       "2         Hey man, I'm really not trying to edit war. It...\n",
       "3         \"\\nMore\\nI can't make any real suggestions on ...\n",
       "4         You, sir, are my hero. Any chance you remember...\n",
       "5         \"\\n\\nCongratulations from me as well, use the ...\n",
       "6              COCKSUCKER BEFORE YOU PISS AROUND ON MY WORK\n",
       "7         Your vandalism to the Matt Shirvington article...\n",
       "8         Sorry if the word 'nonsense' was offensive to ...\n",
       "9         alignment on this subject and which are contra...\n",
       "10        \"\\nFair use rationale for Image:Wonju.jpg\\n\\nT...\n",
       "11        bbq \\n\\nbe a man and lets discuss it-maybe ove...\n",
       "12        Hey... what is it..\\n@ | talk .\\nWhat is it......\n",
       "13        Before you start throwing accusations and warn...\n",
       "14        Oh, and the girl above started her arguments w...\n",
       "15        \"\\n\\nJuelz Santanas Age\\n\\nIn 2002, Juelz Sant...\n",
       "16        Bye! \\n\\nDon't look, come or think of comming ...\n",
       "17         REDIRECT Talk:Voydan Pop Georgiev- Chernodrinski\n",
       "18        The Mitsurugi point made no sense - why not ar...\n",
       "19        Don't mean to bother you \\n\\nI see that you're...\n",
       "20        \"\\n\\n Regarding your recent edits \\n\\nOnce aga...\n",
       "21        \"\\nGood to know. About me, yeah, I'm studying ...\n",
       "22        \"\\n\\n Snowflakes are NOT always symmetrical! \\...\n",
       "23        \"\\n\\n The Signpost: 24 September 2012 \\n\\n Rea...\n",
       "24        \"\\n\\nRe-considering 1st paragraph edit?\\nI don...\n",
       "25        Radial symmetry \\n\\nSeveral now extinct lineag...\n",
       "26        There's no need to apologize. A Wikipedia arti...\n",
       "27        Yes, because the mother of the child in the ca...\n",
       "28        \"\\nOk. But it will take a bit of work but I ca...\n",
       "29        \"== A barnstar for you! ==\\n\\n  The Real Life ...\n",
       "                                ...                        \n",
       "159541    Your absurd edits \\n\\nYour absurd edits on gre...\n",
       "159542    maybe he's got better things to do than spend ...\n",
       "159543    scrap that, it does meet criteria and its gone...\n",
       "159544                                  You could do worse.\n",
       "159545    , 7 March 2011 (UTC)\\nAre you also User:Bmatts...\n",
       "159546    \"\\n\\nHey listen don't you ever!!!! Delete my e...\n",
       "159547                       Thank you very, very much.  ·✆\n",
       "159548                          Talkback: 15 September 2012\n",
       "159549                           2005 (UTC)\\n 06:35, 31 Mar\n",
       "159550    i agree/ on another note lil wayne is a talent...\n",
       "159551    While about half the references are from BYU-I...\n",
       "159552    Prague Spring \\n\\nI think that Prague Spring d...\n",
       "159553    I see this as having been merged; undoing one ...\n",
       "159554    and i'm going to keep posting the stuff u dele...\n",
       "159555    \"\\n\\nHow come when you download that MP3 it's ...\n",
       "159556    I'll be on IRC, too, if you have a more specif...\n",
       "159557    It is my opinion that that happens to be off-t...\n",
       "159558    Please stop removing content from Wikipedia; i...\n",
       "159559    Image:Barack-obama-mother.jpg listed for delet...\n",
       "159560    \"Editing of article without Consensus & Remova...\n",
       "159561    \"\\nNo he did not, read it again (I would have ...\n",
       "159562    \"\\n Auto guides and the motoring press are not...\n",
       "159563    \"\\nplease identify what part of BLP applies be...\n",
       "159564    Catalan independentism is the social movement ...\n",
       "159565    The numbers in parentheses are the additional ...\n",
       "159566    \":::::And for the second time of asking, when ...\n",
       "159567    You should be ashamed of yourself \\n\\nThat is ...\n",
       "159568    Spitzer \\n\\nUmm, theres no actual article for ...\n",
       "159569    And it looks like it was actually you who put ...\n",
       "159570    \"\\nAnd ... I really don't think you understand...\n",
       "Name: comment_text, Length: 159571, dtype: object"
      ]
     },
     "execution_count": 8,
     "metadata": {},
     "output_type": "execute_result"
    }
   ],
   "source": [
    "train['comment_text']"
   ]
  },
  {
   "cell_type": "code",
   "execution_count": 9,
   "metadata": {},
   "outputs": [
    {
     "name": "stdout",
     "output_type": "stream",
     "text": [
      "{'its', 'down', 've', ',', 'doing', 'all', 'whom', 'been', \"'\", 'now', 't', 'didn', 'as', 'yours', \"wouldn't\", 'up', \"you'll\", 'me', 'themselves', 'a', 'or', 'own', 'she', 'myself', 'in', \"won't\", 'should', 'over', 'more', 'most', \"doesn't\", 'm', 'does', 'ain', 'haven', \"wasn't\", 'only', 'why', \"you'd\", 'having', 'is', 'both', 'ma', 'of', ')', 'these', 'so', \"it's\", 'above', 'but', 'by', 'after', \"aren't\", 'shouldn', 'once', 'herself', 'through', 'itself', 'was', 'any', 'if', 'below', \"didn't\", 'hadn', 'couldn', 'being', 'into', 'between', 'he', 'until', \"isn't\", 'against', \"shouldn't\", 'what', 'do', 'them', \"couldn't\", 'which', 'll', 'out', \"shan't\", 'wouldn', ']', 'weren', 'the', 'will', 'ours', \"you're\", \"you've\", 'here', 'with', 'from', 'am', 'off', 'under', 'mightn', 'be', '\"', 'this', \"needn't\", 'i', \"mightn't\", 'his', \"should've\", 'd', 'than', 'when', 'wasn', 'my', 'it', 'have', 'needn', 'during', 'yourself', 'y', 's', 'some', 'while', 'who', \"haven't\", 'then', 'won', 'him', 'are', 'o', 're', 'same', \"hadn't\", 'has', 'before', 'can', 'ourselves', 'hers', 'doesn', 'about', 'other', 'nor', 'isn', 'your', 'mustn', 'did', 'just', 'hasn', ';', 'no', 'were', 'few', \"mustn't\", 'such', 'our', 'because', '.', \"that'll\", 'where', 'there', 'an', \"hasn't\", '(', 'shan', \"weren't\", 'those', 'not', 'yourselves', ':', 'to', 'himself', \"she's\", 'theirs', 'too', 'further', 'her', 'on', 'they', 'their', 'at', 'don', '}', '{', 'how', 'you', 'aren', 'each', 'again', 'for', '[', 'that', 'and', 'had', 'very', \"don't\", 'we'}\n"
     ]
    }
   ],
   "source": [
    "# Create tools to preprocess data\n",
    "# we will remove english stop words from text as well as punctuation\n",
    "from nltk.corpus import stopwords\n",
    "porter = PorterStemmer()\n",
    "stop_words = set(stopwords.words('english')) \n",
    "\n",
    "stop_words.update(['.', ',', '\"', \"'\", ':', ';', '(', ')', '[', ']', '{', '}'])\n",
    "print(stop_words)"
   ]
  },
  {
   "cell_type": "code",
   "execution_count": 10,
   "metadata": {},
   "outputs": [
    {
     "name": "stdout",
     "output_type": "stream",
     "text": [
      "[\"Explanation\\nWhy the edits made under my username Hardcore Metallica Fan were reverted? They weren't vandalisms, just closure on some GAs after I voted at New York Dolls FAC. And please don't remove the template from the talk page since I'm retired now.89.205.38.27\", \"D'aww! He matches this background colour I'm seemingly stuck with. Thanks.  (talk) 21:51, January 11, 2016 (UTC)\"]\n",
      "pre-processing train data...\n"
     ]
    },
    {
     "name": "stderr",
     "output_type": "stream",
     "text": [
      "100%|██████████| 159571/159571 [00:25<00:00, 6234.13it/s]\n"
     ]
    },
    {
     "data": {
      "text/plain": [
       "['Explanation Why edits made username Hardcore Metallica Fan reverted They vandalisms closure GAs I voted New York Dolls FAC And please remove template talk page since I retired 89 205 38 27',\n",
       " 'D aww He matches background colour I seemingly stuck Thanks talk 21 51 January 11 2016 UTC',\n",
       " 'Hey man I really trying edit war It guy constantly removing relevant information talking edits instead talk page He seems care formatting actual info',\n",
       " 'More I make real suggestions improvement I wondered section statistics later subsection types accidents I think references may need tidying exact format ie date format etc I later one else first preferences formatting style references want please let know There appears backlog articles review I guess may delay reviewer turns It listed relevant form eg Wikipedia Good_article_nominations Transport',\n",
       " 'You sir hero Any chance remember page',\n",
       " 'Congratulations well use tools well talk',\n",
       " 'COCKSUCKER BEFORE YOU PISS AROUND ON MY WORK',\n",
       " 'Your vandalism Matt Shirvington article reverted Please banned',\n",
       " 'Sorry word nonsense offensive Anyway I intending write anything article wow would jump vandalism I merely requesting encyclopedic one use school reference I selective breeding page almost stub It points animal breeding short messy article gives info There must someone around expertise eugenics 93 161 107 169',\n",
       " 'alignment subject contrary DuLithgow']"
      ]
     },
     "execution_count": 10,
     "metadata": {},
     "output_type": "execute_result"
    }
   ],
   "source": [
    "# the maximum number of words considered is 100000\n",
    "MAX_NB_WORDS = 100000\n",
    "# the size of the sentences will be 250\n",
    "max_seq_len = 250\n",
    "\n",
    "raw_docs_train = train['comment_text'].tolist()\n",
    "raw_docs_test = test['comment_text'].tolist()\n",
    "\n",
    "print(raw_docs_train[0:2])\n",
    "num_classes = len(list_classes)\n",
    "\n",
    "num_classes = len(list_classes)\n",
    "\n",
    "tokenizer = RegexpTokenizer(r'\\w+')\n",
    "\n",
    "print(\"pre-processing train data...\")\n",
    "processed_docs_train = []\n",
    "for doc in tqdm(raw_docs_train):\n",
    "    tokens = tokenizer.tokenize(doc)\n",
    "    filtered = [word for word in tokens if word not in stop_words]\n",
    "    processed_docs_train.append(\" \".join(filtered))\n",
    "\n",
    "processed_docs_train[0:10]"
   ]
  },
  {
   "cell_type": "code",
   "execution_count": 11,
   "metadata": {},
   "outputs": [
    {
     "name": "stdout",
     "output_type": "stream",
     "text": [
      "pre-processing test data...\n"
     ]
    },
    {
     "name": "stderr",
     "output_type": "stream",
     "text": [
      "100%|██████████| 153164/153164 [00:22<00:00, 6902.38it/s]\n"
     ]
    }
   ],
   "source": [
    "print(\"pre-processing test data...\")\n",
    "processed_docs_test = []\n",
    "for doc in tqdm(raw_docs_test):\n",
    "    tokens = tokenizer.tokenize(doc)\n",
    "    filtered = [word for word in tokens if word not in stop_words]\n",
    "    processed_docs_test.append(\" \".join(filtered))"
   ]
  },
  {
   "cell_type": "code",
   "execution_count": 12,
   "metadata": {},
   "outputs": [
    {
     "name": "stdout",
     "output_type": "stream",
     "text": [
      "tokenizing input data...\n",
      "dictionary size:  348520\n"
     ]
    }
   ],
   "source": [
    "print(\"tokenizing input data...\")\n",
    "tokenizer = Tokenizer(num_words=MAX_NB_WORDS, lower=True, char_level=False)\n",
    "tokenizer.fit_on_texts(processed_docs_train + processed_docs_test)  #leaky\n",
    "word_seq_train = tokenizer.texts_to_sequences(processed_docs_train)\n",
    "word_seq_test = tokenizer.texts_to_sequences(processed_docs_test)\n",
    "word_index = tokenizer.word_index\n",
    "print(\"dictionary size: \", len(word_index))"
   ]
  },
  {
   "cell_type": "code",
   "execution_count": 13,
   "metadata": {},
   "outputs": [
    {
     "name": "stderr",
     "output_type": "stream",
     "text": [
      "IOPub data rate exceeded.\n",
      "The notebook server will temporarily stop sending output\n",
      "to the client in order to avoid crashing it.\n",
      "To change this limit, set the config variable\n",
      "`--NotebookApp.iopub_data_rate_limit`.\n"
     ]
    },
    {
     "name": "stdout",
     "output_type": "stream",
     "text": [
      "\n"
     ]
    }
   ],
   "source": [
    "# summarize what was learned\n",
    "print(tokenizer.word_counts)"
   ]
  },
  {
   "cell_type": "code",
   "execution_count": 14,
   "metadata": {},
   "outputs": [
    {
     "name": "stdout",
     "output_type": "stream",
     "text": [
      "312735\n"
     ]
    }
   ],
   "source": [
    "print(tokenizer.document_count)"
   ]
  },
  {
   "cell_type": "code",
   "execution_count": 15,
   "metadata": {},
   "outputs": [
    {
     "name": "stderr",
     "output_type": "stream",
     "text": [
      "IOPub data rate exceeded.\n",
      "The notebook server will temporarily stop sending output\n",
      "to the client in order to avoid crashing it.\n",
      "To change this limit, set the config variable\n",
      "`--NotebookApp.iopub_data_rate_limit`.\n"
     ]
    },
    {
     "name": "stdout",
     "output_type": "stream",
     "text": [
      "\n"
     ]
    }
   ],
   "source": [
    "print(tokenizer.word_index)"
   ]
  },
  {
   "cell_type": "code",
   "execution_count": 16,
   "metadata": {},
   "outputs": [
    {
     "name": "stdout",
     "output_type": "stream",
     "text": [
      "Done !!\n"
     ]
    }
   ],
   "source": [
    "#pad sequences\n",
    "word_seq_train = sequence.pad_sequences(word_seq_train, maxlen=max_seq_len)\n",
    "word_seq_test = sequence.pad_sequences(word_seq_test, maxlen=max_seq_len)\n",
    "print(\"Done !!\")"
   ]
  },
  {
   "cell_type": "code",
   "execution_count": 17,
   "metadata": {},
   "outputs": [
    {
     "name": "stdout",
     "output_type": "stream",
     "text": [
      "loading first word embeddings...\n"
     ]
    },
    {
     "name": "stderr",
     "output_type": "stream",
     "text": [
      "2196019it [25:05, 1458.45it/s]\n"
     ]
    },
    {
     "name": "stdout",
     "output_type": "stream",
     "text": [
      "found 2196017 word vectors\n",
      "preparing embedding matrix...\n",
      "number of null word embeddings: 23510\n"
     ]
    }
   ],
   "source": [
    "embed_dim = 300\n",
    "\n",
    "#Glove embedding\n",
    "print('loading first word embeddings...')\n",
    "embeddings_index = {}\n",
    "f = codecs.open('Desktop/online_studies/Udacity/ML/capstone/glove.840B.300d.txt', encoding='utf-8')\n",
    "\n",
    "for line in tqdm(f):\n",
    "    values = line.rstrip().rsplit(' ')\n",
    "    word = values[0]\n",
    "    coefs = np.asarray(values[1:], dtype='float32')\n",
    "    embeddings_index[word] = coefs\n",
    "f.close()\n",
    "print('found %s word vectors' % len(embeddings_index))\n",
    "\n",
    "#embedding matrix\n",
    "print('preparing embedding matrix...')\n",
    "words_not_found = []\n",
    "nb_words = min(MAX_NB_WORDS, len(word_index))\n",
    "embedding_matrix_glove = np.zeros((nb_words, embed_dim))\n",
    "for word, i in word_index.items():\n",
    "    if i >= nb_words:\n",
    "        continue\n",
    "    embedding_vector = embeddings_index.get(word)\n",
    "    if (embedding_vector is not None) and len(embedding_vector) > 0:\n",
    "        # words not found in embedding index will be all-zeros.\n",
    "        embedding_matrix_glove[i] = embedding_vector\n",
    "    else:\n",
    "        words_not_found.append(word)\n",
    "print('number of null word embeddings: %d' % np.sum(np.sum(embedding_matrix_glove, axis=1) == 0))"
   ]
  },
  {
   "cell_type": "code",
   "execution_count": 18,
   "metadata": {},
   "outputs": [
    {
     "name": "stdout",
     "output_type": "stream",
     "text": [
      "loading second word embeddings...\n"
     ]
    },
    {
     "ename": "NameError",
     "evalue": "name 'Print' is not defined",
     "output_type": "error",
     "traceback": [
      "\u001b[1;31m---------------------------------------------------------------------------\u001b[0m",
      "\u001b[1;31mNameError\u001b[0m                                 Traceback (most recent call last)",
      "\u001b[1;32m<ipython-input-18-ca284ebc41dc>\u001b[0m in \u001b[0;36m<module>\u001b[1;34m()\u001b[0m\n\u001b[0;32m     13\u001b[0m \u001b[1;33m\u001b[0m\u001b[0m\n\u001b[0;32m     14\u001b[0m \u001b[1;32mdel\u001b[0m \u001b[0membeddings_index\u001b[0m\u001b[1;33m\u001b[0m\u001b[0m\n\u001b[1;32m---> 15\u001b[1;33m \u001b[0mPrint\u001b[0m\u001b[1;33m(\u001b[0m\u001b[1;34m'Done!!'\u001b[0m\u001b[1;33m)\u001b[0m\u001b[1;33m\u001b[0m\u001b[0m\n\u001b[0m",
      "\u001b[1;31mNameError\u001b[0m: name 'Print' is not defined"
     ]
    }
   ],
   "source": [
    "#Fasttext embedding\n",
    "print('loading second word embeddings...')\n",
    "EMBEDDING_FILE = \"Desktop/online_studies/Udacity/ML/capstone/crawl-300d-2M.vec\"\n",
    "\n",
    "def get_coefs(word, *arr): return word, np.asarray(arr, dtype='float32')\n",
    "embeddings_index = dict(get_coefs(*o.rstrip().rsplit(' ')) for o in open(EMBEDDING_FILE, encoding=\"utf8\"))\n",
    "\n",
    "word_index = tokenizer.word_index\n",
    "embedding_matrix_crawl = np.zeros((nb_words, embed_dim))\n",
    "for word, i in word_index.items():\n",
    "    if i >= MAX_NB_WORDS: continue\n",
    "    embedding_vector = embeddings_index.get(word)\n",
    "    if embedding_vector is not None: embedding_matrix_crawl[i] = embedding_vector\n",
    "\n",
    "print('Done!!')"
   ]
  },
  {
   "cell_type": "code",
   "execution_count": 23,
   "metadata": {},
   "outputs": [
    {
     "name": "stdout",
     "output_type": "stream",
     "text": [
      "[ -4.82100010e-01   8.85000005e-02  -7.81999975e-02  -7.46000037e-02\n",
      "  -7.41000026e-02  -1.40000004e-02   2.10400000e-01   2.96499997e-01\n",
      "   1.77800000e-01   2.38600001e-01   2.87600011e-01   3.69199991e-01\n",
      "   1.35700002e-01   5.55899978e-01   2.47000009e-02  -1.18100002e-01\n",
      "  -5.82999997e-02   2.19999999e-03  -1.43999998e-02  -3.82400006e-01\n",
      "  -3.58300000e-01   1.94999993e-01  -2.10999995e-02   6.27999976e-02\n",
      "  -2.46099994e-01   1.25599995e-01   1.03200004e-01   4.00999993e-01\n",
      "   1.33900002e-01   3.84000018e-02  -1.90000003e-03   1.13799997e-01\n",
      "   5.49999997e-03   1.43000007e-01  -2.63900012e-01   8.37000012e-02\n",
      "   1.75200000e-01  -3.34100008e-01  -5.31999990e-02  -6.91000000e-02\n",
      "  -1.94800004e-01   7.15399981e-01   1.26800001e-01   9.62999985e-02\n",
      "   3.94000001e-02  -1.00299999e-01   1.70000002e-03  -8.07999969e-02\n",
      "   2.15399995e-01   9.67999995e-02  -1.22100003e-01  -1.42600000e-01\n",
      "   6.58999979e-01  -1.32100001e-01   1.58199996e-01  -4.19600010e-01\n",
      "  -6.43000007e-02  -3.03999990e-01   8.42000023e-02   1.08099997e-01\n",
      "  -1.32499993e-01  -1.44099995e-01   1.19800001e-01   2.40000011e-03\n",
      "   9.66999978e-02   1.64499998e-01   2.15299994e-01  -8.47999975e-02\n",
      "  -9.84999985e-02  -3.09799999e-01   6.93999976e-02   1.00599997e-01\n",
      "   1.42000005e-01   7.55999982e-02  -4.80999984e-02  -2.15499997e-01\n",
      "  -5.06600022e-01  -1.38999997e-02   2.73999989e-01  -2.24000007e-01\n",
      "   5.66500008e-01   2.72000004e-02  -2.48300001e-01  -1.29800007e-01\n",
      "  -2.23900005e-01  -1.11199997e-01   3.54799986e-01  -1.09099999e-01\n",
      "   1.76599994e-01   8.78999978e-02  -2.76899993e-01   2.01100007e-01\n",
      "   5.29999984e-03  -1.71000008e-02  -6.15999997e-02   3.00999992e-02\n",
      "  -2.50699997e-01  -1.24600001e-01   1.04099996e-01   6.04999997e-02\n",
      "   5.07000014e-02  -3.89099985e-01  -1.90999992e-02  -1.81999996e-01\n",
      "   1.43600002e-01   3.71699989e-01   1.11299999e-01   2.10999995e-02\n",
      "   3.72000001e-02   1.68200001e-01  -4.47000004e-02  -3.53399992e-01\n",
      "   4.45100009e-01   1.31300002e-01  -2.36399993e-01  -8.86999965e-02\n",
      "   1.17700003e-01   5.88999987e-02  -2.62600005e-01   1.66600004e-01\n",
      "  -1.75699994e-01   4.80999984e-02  -4.80999984e-02   1.72099993e-01\n",
      "  -1.38699993e-01  -3.08899999e-01  -6.40999973e-02  -1.19400002e-01\n",
      "  -2.67899990e-01  -2.83199996e-01   1.13899998e-01   2.76699990e-01\n",
      "  -9.17999968e-02   1.72399998e-01   1.87900007e-01  -1.43900007e-01\n",
      "  -6.66999966e-02   1.56000003e-01   3.63000005e-01  -7.67899990e-01\n",
      "  -2.29000002e-01   8.39999989e-02   9.62999985e-02   1.65399998e-01\n",
      "  -4.70400006e-01  -1.61899999e-01  -2.33999994e-02  -3.91000003e-01\n",
      "  -1.79999997e-03   1.17899999e-01   2.19999999e-01  -1.10500000e-01\n",
      "   3.62000018e-02   3.40000005e-03   3.35999995e-01   2.20999997e-02\n",
      "  -3.57999988e-02  -1.90000003e-03  -1.46100000e-01   5.95000014e-02\n",
      "   4.38699991e-01  -1.17600001e-01   1.67999998e-01   1.28999993e-01\n",
      "   4.56000008e-02  -5.86000010e-02   1.36800006e-01  -6.80000037e-02\n",
      "   2.60000005e-02   1.11900002e-01   3.00000003e-03   2.95199990e-01\n",
      "   9.00999978e-02   2.67300010e-01  -3.99800003e-01   7.13000000e-02\n",
      "  -1.25499994e-01   3.66999991e-02  -1.17700003e-01  -3.86000015e-02\n",
      "   3.00799996e-01   3.24000008e-02   2.11199999e-01   9.31999981e-02\n",
      "  -1.72700003e-01   2.00000009e-03  -1.10600002e-01   7.23000020e-02\n",
      "   2.09000006e-01   3.57000008e-02   1.12999998e-01   6.01000004e-02\n",
      "   1.42700002e-01   9.83000025e-02   8.32000002e-02   2.38000005e-02\n",
      "  -3.75999995e-02  -8.82000029e-02  -9.83000025e-02   1.57800004e-01\n",
      "   1.07000001e-01   1.41000003e-01   1.93299994e-01  -1.01000004e-01\n",
      "  -1.10399999e-01   2.89000005e-01   2.85000000e-02   1.47599995e-01\n",
      "   9.49999969e-03   1.32100001e-01  -1.00400001e-01   4.25999999e-01\n",
      "  -1.29700005e-01   2.71299988e-01  -3.88999999e-01   8.37000012e-02\n",
      "  -8.34000036e-02   4.89999987e-02  -7.71000013e-02   1.37899995e-01\n",
      "  -2.62300014e-01   2.55199999e-01   1.68899998e-01   4.45100009e-01\n",
      "   8.78000036e-02   3.00399989e-01   1.26300007e-01   2.35599995e-01\n",
      "   2.51000002e-02   1.27000004e-01  -1.11100003e-01  -6.50000013e-03\n",
      "  -2.22499996e-01  -1.32400006e-01   7.73999989e-02  -7.32999966e-02\n",
      "   3.06300014e-01   6.89999992e-03   9.08999965e-02  -1.91000000e-01\n",
      "   7.50000030e-02   6.97000027e-02   1.42999999e-02   2.86000013e-01\n",
      "   1.02300003e-01   1.12499997e-01  -3.37199986e-01   1.33300006e-01\n",
      "  -1.10100001e-01  -1.39699996e-01  -3.09100002e-01   8.54000002e-02\n",
      "   1.48200005e-01  -3.70999984e-02  -1.85200006e-01   1.48100004e-01\n",
      "  -1.78100005e-01   7.71000013e-02   3.48300010e-01  -1.90300003e-01\n",
      "   5.49999997e-03  -1.66999996e-02  -9.69000012e-02  -1.42399997e-01\n",
      "   9.96999964e-02   2.19200000e-01   3.31600010e-01   6.36000037e-02\n",
      "  -4.38000001e-02  -3.97199988e-01   1.12899996e-01  -8.30999985e-02\n",
      "   9.88000035e-02   1.03299998e-01   8.43999982e-02   3.18100005e-01\n",
      "   1.12999998e-01  -5.09999990e-02   9.58999991e-02   3.87600005e-01\n",
      "  -2.33999994e-02  -5.65599978e-01   1.59099996e-01   6.44999966e-02\n",
      "  -6.00000028e-04  -3.55999991e-02   6.80000009e-03   1.32900000e-01\n",
      "  -3.94000001e-02   6.10999987e-02   4.82000001e-02   1.78000003e-01\n",
      "   4.23000008e-02   1.50299996e-01   3.00000014e-04  -2.22100005e-01\n",
      "  -7.89000019e-02  -3.17000002e-02  -1.59099996e-01  -1.30099997e-01]\n"
     ]
    }
   ],
   "source": [
    "print(embedding_matrix_crawl[1])"
   ]
  },
  {
   "cell_type": "code",
   "execution_count": 24,
   "metadata": {
    "collapsed": true
   },
   "outputs": [],
   "source": [
    "# Creating model\n",
    "\n",
    "inp = Input(shape=(max_seq_len, ))\n",
    "emb_glove = Embedding(nb_words, 300,weights=[embedding_matrix_glove], input_length = max_seq_len, trainable=False)(inp)\n",
    "\n",
    "emb_crawl = Embedding(nb_words, 300,weights=[embedding_matrix_crawl], input_length = max_seq_len, trainable=False)(inp)\n",
    "\n",
    "conc1 = concatenate([emb_glove, emb_crawl])\n",
    "x = Bidirectional(LSTM(10, return_sequences=True))(conc1)\n",
    "x = Bidirectional(GRU (10, return_sequences=True))(x)\n",
    "avg_pool = GlobalAveragePooling1D()(x)\n",
    "max_pool = GlobalMaxPooling1D()(x)\n",
    "out = concatenate([avg_pool, max_pool])\n",
    "\n",
    "out = Dense(200, activation=\"relu\")(out)\n",
    "out = Dense(y_train.shape[1], activation=\"sigmoid\")(out)\n",
    "\n",
    "model = Model(inputs=inp, outputs=out)\n",
    "\n",
    "model.compile(loss='binary_crossentropy', optimizer = keras.optimizers.Adam(lr=0.001),\n",
    "              metrics=['accuracy'])"
   ]
  },
  {
   "cell_type": "code",
   "execution_count": 25,
   "metadata": {},
   "outputs": [
    {
     "name": "stdout",
     "output_type": "stream",
     "text": [
      "__________________________________________________________________________________________________\n",
      "Layer (type)                    Output Shape         Param #     Connected to                     \n",
      "==================================================================================================\n",
      "input_1 (InputLayer)            (None, 250)          0                                            \n",
      "__________________________________________________________________________________________________\n",
      "embedding_1 (Embedding)         (None, 250, 300)     30000000    input_1[0][0]                    \n",
      "__________________________________________________________________________________________________\n",
      "embedding_2 (Embedding)         (None, 250, 300)     30000000    input_1[0][0]                    \n",
      "__________________________________________________________________________________________________\n",
      "concatenate_1 (Concatenate)     (None, 250, 600)     0           embedding_1[0][0]                \n",
      "                                                                 embedding_2[0][0]                \n",
      "__________________________________________________________________________________________________\n",
      "bidirectional_1 (Bidirectional) (None, 250, 20)      48880       concatenate_1[0][0]              \n",
      "__________________________________________________________________________________________________\n",
      "bidirectional_2 (Bidirectional) (None, 250, 20)      1860        bidirectional_1[0][0]            \n",
      "__________________________________________________________________________________________________\n",
      "global_average_pooling1d_1 (Glo (None, 20)           0           bidirectional_2[0][0]            \n",
      "__________________________________________________________________________________________________\n",
      "global_max_pooling1d_1 (GlobalM (None, 20)           0           bidirectional_2[0][0]            \n",
      "__________________________________________________________________________________________________\n",
      "concatenate_2 (Concatenate)     (None, 40)           0           global_average_pooling1d_1[0][0] \n",
      "                                                                 global_max_pooling1d_1[0][0]     \n",
      "__________________________________________________________________________________________________\n",
      "dense_1 (Dense)                 (None, 200)          8200        concatenate_2[0][0]              \n",
      "__________________________________________________________________________________________________\n",
      "dense_2 (Dense)                 (None, 6)            1206        dense_1[0][0]                    \n",
      "==================================================================================================\n",
      "Total params: 60,060,146\n",
      "Trainable params: 60,146\n",
      "Non-trainable params: 60,000,000\n",
      "__________________________________________________________________________________________________\n"
     ]
    }
   ],
   "source": [
    "model.summary()"
   ]
  },
  {
   "cell_type": "code",
   "execution_count": 27,
   "metadata": {},
   "outputs": [
    {
     "name": "stdout",
     "output_type": "stream",
     "text": [
      "Train on 143613 samples, validate on 15958 samples\n",
      "Epoch 1/3\n",
      " - 1178s - loss: 0.0426 - acc: 0.9835 - val_loss: 0.0438 - val_acc: 0.9827\n",
      "Epoch 2/3\n",
      " - 1290s - loss: 0.0399 - acc: 0.9842 - val_loss: 0.0424 - val_acc: 0.9834\n",
      "Epoch 3/3\n",
      " - 1333s - loss: 0.0375 - acc: 0.9850 - val_loss: 0.0423 - val_acc: 0.9829\n"
     ]
    },
    {
     "data": {
      "text/plain": [
       "<keras.callbacks.History at 0x24218a43240>"
      ]
     },
     "execution_count": 27,
     "metadata": {},
     "output_type": "execute_result"
    }
   ],
   "source": [
    "model.fit(word_seq_train, y_train, epochs=3, batch_size=80, shuffle=True, validation_split=0.1,verbose = 2)"
   ]
  },
  {
   "cell_type": "code",
   "execution_count": 28,
   "metadata": {
    "collapsed": true
   },
   "outputs": [],
   "source": [
    "y_test = model.predict(word_seq_test)"
   ]
  },
  {
   "cell_type": "code",
   "execution_count": 29,
   "metadata": {
    "collapsed": true
   },
   "outputs": [],
   "source": [
    "sample_submission = pd.read_csv(\"Desktop/online_studies/Udacity/ML/capstone/sample_submission.csv\")\n",
    "\n",
    "sample_submission[list_classes] = y_test\n",
    "sample_submission.to_csv(\"Desktop/online_studies/Udacity/ML/capstone/results.csv\", index=False)"
   ]
  },
  {
   "cell_type": "code",
   "execution_count": null,
   "metadata": {
    "collapsed": true
   },
   "outputs": [],
   "source": []
  }
 ],
 "metadata": {
  "kernelspec": {
   "display_name": "Python 3",
   "language": "python",
   "name": "python3"
  },
  "language_info": {
   "codemirror_mode": {
    "name": "ipython",
    "version": 3
   },
   "file_extension": ".py",
   "mimetype": "text/x-python",
   "name": "python",
   "nbconvert_exporter": "python",
   "pygments_lexer": "ipython3",
   "version": "3.6.5"
  }
 },
 "nbformat": 4,
 "nbformat_minor": 2
}
